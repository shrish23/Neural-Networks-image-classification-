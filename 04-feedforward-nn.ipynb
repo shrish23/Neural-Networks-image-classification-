{
 "cells": [
  {
   "cell_type": "markdown",
   "id": "84d4de15",
   "metadata": {
    "papermill": {
     "duration": 0.028892,
     "end_time": "2023-11-04T17:31:39.099501",
     "exception": false,
     "start_time": "2023-11-04T17:31:39.070609",
     "status": "completed"
    },
    "tags": []
   },
   "source": [
    " This tutorial covers the following topics:\n",
    " \n",
    " * Creating a deep neural network with hidden layers\n",
    " * Using a non-linear activation function\n",
    " * Using a GPU (when available) to speed up training\n",
    " * Experimenting with hyperparameters to improve the model"
   ]
  },
  {
   "cell_type": "markdown",
   "id": "11a495d0",
   "metadata": {
    "papermill": {
     "duration": 0.027083,
     "end_time": "2023-11-04T17:31:39.154357",
     "exception": false,
     "start_time": "2023-11-04T17:31:39.127274",
     "status": "completed"
    },
    "tags": []
   },
   "source": [
    "## Preparing the Data\n",
    "\n",
    "In [the previous tutorial](https://jovian.ai/aakashns/03-logistic-regression), we trained a logistic regression model to identify handwritten digits from the MNIST dataset with an accuracy of around 86%. The dataset consists of 28px by 28px grayscale images of handwritten digits (0 to 9) and labels for each image indicating which digit it represents. Here are some sample images from the dataset:\n",
    "\n",
    "![mnist-sample](https://i.imgur.com/CAYnuo1.jpg)\n",
    "\n",
    "We noticed that it's quite challenging to improve the accuracy of a logistic regression model beyond 87%, since the model assumes a linear relationship between pixel intensities and image labels. In this post, we'll try to improve upon it  using a *feed-forward neural network* which can capture non-linear relationships between inputs and targets.\n",
    "\n",
    "Let's begin by installing and importing the required modules and classes from `torch`, `torchvision`, `numpy`, and `matplotlib`."
   ]
  },
  {
   "cell_type": "code",
   "execution_count": 1,
   "id": "e6ca608f",
   "metadata": {
    "execution": {
     "iopub.execute_input": "2023-11-04T17:31:39.212620Z",
     "iopub.status.busy": "2023-11-04T17:31:39.212004Z",
     "iopub.status.idle": "2023-11-04T17:31:44.845148Z",
     "shell.execute_reply": "2023-11-04T17:31:44.843801Z"
    },
    "papermill": {
     "duration": 5.666051,
     "end_time": "2023-11-04T17:31:44.848566",
     "exception": false,
     "start_time": "2023-11-04T17:31:39.182515",
     "status": "completed"
    },
    "tags": []
   },
   "outputs": [
    {
     "name": "stdout",
     "output_type": "stream",
     "text": [
      "Looking in links: https://download.pytorch.org/whl/torch_stable.html\r\n",
      "Requirement already satisfied: numpy in /opt/conda/lib/python3.10/site-packages (1.23.5)\r\n",
      "Requirement already satisfied: matplotlib in /opt/conda/lib/python3.10/site-packages (3.7.2)\r\n",
      "\u001b[31mERROR: Could not find a version that satisfies the requirement torch==1.7.0+cpu (from versions: 1.11.0, 1.11.0+cpu, 1.11.0+cu102, 1.11.0+cu113, 1.11.0+cu115, 1.11.0+rocm4.3.1, 1.11.0+rocm4.5.2, 1.12.0, 1.12.0+cpu, 1.12.0+cu102, 1.12.0+cu113, 1.12.0+cu116, 1.12.0+rocm5.0, 1.12.0+rocm5.1.1, 1.12.1, 1.12.1+cpu, 1.12.1+cu102, 1.12.1+cu113, 1.12.1+cu116, 1.12.1+rocm5.0, 1.12.1+rocm5.1.1, 1.13.0, 1.13.0+cpu, 1.13.0+cu116, 1.13.0+cu117, 1.13.0+cu117.with.pypi.cudnn, 1.13.0+rocm5.1.1, 1.13.0+rocm5.2, 1.13.1, 1.13.1+cpu, 1.13.1+cu116, 1.13.1+cu117, 1.13.1+cu117.with.pypi.cudnn, 1.13.1+rocm5.1.1, 1.13.1+rocm5.2, 2.0.0, 2.0.0+cpu, 2.0.0+cpu.cxx11.abi, 2.0.0+cu117, 2.0.0+cu117.with.pypi.cudnn, 2.0.0+cu118, 2.0.0+rocm5.3, 2.0.0+rocm5.4.2, 2.0.1, 2.0.1+cpu, 2.0.1+cpu.cxx11.abi, 2.0.1+cu117, 2.0.1+cu117.with.pypi.cudnn, 2.0.1+cu118, 2.0.1+rocm5.3, 2.0.1+rocm5.4.2, 2.1.0, 2.1.0+cpu, 2.1.0+cpu.cxx11.abi, 2.1.0+cu118, 2.1.0+cu121, 2.1.0+cu121.with.pypi.cudnn, 2.1.0+rocm5.5, 2.1.0+rocm5.6)\u001b[0m\u001b[31m\r\n",
      "\u001b[0m\u001b[31mERROR: No matching distribution found for torch==1.7.0+cpu\u001b[0m\u001b[31m\r\n",
      "\u001b[0m"
     ]
    }
   ],
   "source": [
    "# Uncomment and run the appropriate command for your operating system, if required\n",
    "\n",
    "# Linux / Binder\n",
    "# !pip install numpy matplotlib torch==1.7.0+cpu torchvision==0.8.1+cpu torchaudio==0.7.0 -f https://download.pytorch.org/whl/torch_stable.html\n",
    "\n",
    "# Windows\n",
    "!pip install numpy matplotlib torch==1.7.0+cpu torchvision==0.8.1+cpu torchaudio==0.7.0 -f https://download.pytorch.org/whl/torch_stable.html\n",
    "\n",
    "# MacOS\n",
    "# !pip install numpy matplotlib torch torchvision torchaudio"
   ]
  },
  {
   "cell_type": "code",
   "execution_count": 2,
   "id": "e29840e9",
   "metadata": {
    "execution": {
     "iopub.execute_input": "2023-11-04T17:31:44.904696Z",
     "iopub.status.busy": "2023-11-04T17:31:44.904295Z",
     "iopub.status.idle": "2023-11-04T17:31:49.324134Z",
     "shell.execute_reply": "2023-11-04T17:31:49.322819Z"
    },
    "papermill": {
     "duration": 4.45155,
     "end_time": "2023-11-04T17:31:49.327001",
     "exception": false,
     "start_time": "2023-11-04T17:31:44.875451",
     "status": "completed"
    },
    "tags": []
   },
   "outputs": [],
   "source": [
    "import torch\n",
    "import torchvision\n",
    "import numpy as np\n",
    "import matplotlib\n",
    "import matplotlib.pyplot as plt\n",
    "import torch.nn as nn\n",
    "import torch.nn.functional as F\n",
    "from torchvision.datasets import MNIST\n",
    "from torchvision.transforms import ToTensor\n",
    "from torchvision.utils import make_grid\n",
    "from torch.utils.data.dataloader import DataLoader\n",
    "from torch.utils.data import random_split\n",
    "%matplotlib inline\n",
    "\n",
    "# Use a white background for matplotlib figures\n",
    "matplotlib.rcParams['figure.facecolor'] = '#ffffff'"
   ]
  },
  {
   "cell_type": "markdown",
   "id": "f5089e15",
   "metadata": {
    "papermill": {
     "duration": 0.026213,
     "end_time": "2023-11-04T17:31:49.379728",
     "exception": false,
     "start_time": "2023-11-04T17:31:49.353515",
     "status": "completed"
    },
    "tags": []
   },
   "source": [
    "We can download the data and create a PyTorch dataset using the `MNIST` class from `torchvision.datasets`. "
   ]
  },
  {
   "cell_type": "code",
   "execution_count": 3,
   "id": "a9c60b20",
   "metadata": {
    "execution": {
     "iopub.execute_input": "2023-11-04T17:31:49.503006Z",
     "iopub.status.busy": "2023-11-04T17:31:49.502333Z",
     "iopub.status.idle": "2023-11-04T17:31:50.738660Z",
     "shell.execute_reply": "2023-11-04T17:31:50.737744Z"
    },
    "papermill": {
     "duration": 1.334946,
     "end_time": "2023-11-04T17:31:50.741574",
     "exception": false,
     "start_time": "2023-11-04T17:31:49.406628",
     "status": "completed"
    },
    "tags": []
   },
   "outputs": [
    {
     "name": "stdout",
     "output_type": "stream",
     "text": [
      "Downloading http://yann.lecun.com/exdb/mnist/train-images-idx3-ubyte.gz\n",
      "Downloading http://yann.lecun.com/exdb/mnist/train-images-idx3-ubyte.gz to data/MNIST/raw/train-images-idx3-ubyte.gz\n"
     ]
    },
    {
     "name": "stderr",
     "output_type": "stream",
     "text": [
      "100%|██████████| 9912422/9912422 [00:00<00:00, 103439664.53it/s]\n"
     ]
    },
    {
     "name": "stdout",
     "output_type": "stream",
     "text": [
      "Extracting data/MNIST/raw/train-images-idx3-ubyte.gz to data/MNIST/raw\n",
      "\n",
      "Downloading http://yann.lecun.com/exdb/mnist/train-labels-idx1-ubyte.gz\n",
      "Downloading http://yann.lecun.com/exdb/mnist/train-labels-idx1-ubyte.gz to data/MNIST/raw/train-labels-idx1-ubyte.gz\n"
     ]
    },
    {
     "name": "stderr",
     "output_type": "stream",
     "text": [
      "100%|██████████| 28881/28881 [00:00<00:00, 32268432.03it/s]"
     ]
    },
    {
     "name": "stdout",
     "output_type": "stream",
     "text": [
      "Extracting data/MNIST/raw/train-labels-idx1-ubyte.gz to data/MNIST/raw\n",
      "\n",
      "Downloading http://yann.lecun.com/exdb/mnist/t10k-images-idx3-ubyte.gz\n",
      "Downloading http://yann.lecun.com/exdb/mnist/t10k-images-idx3-ubyte.gz to data/MNIST/raw/t10k-images-idx3-ubyte.gz\n"
     ]
    },
    {
     "name": "stderr",
     "output_type": "stream",
     "text": [
      "\n",
      "100%|██████████| 1648877/1648877 [00:00<00:00, 31564135.15it/s]\n"
     ]
    },
    {
     "name": "stdout",
     "output_type": "stream",
     "text": [
      "Extracting data/MNIST/raw/t10k-images-idx3-ubyte.gz to data/MNIST/raw\n",
      "\n",
      "Downloading http://yann.lecun.com/exdb/mnist/t10k-labels-idx1-ubyte.gz\n",
      "Downloading http://yann.lecun.com/exdb/mnist/t10k-labels-idx1-ubyte.gz to data/MNIST/raw/t10k-labels-idx1-ubyte.gz\n"
     ]
    },
    {
     "name": "stderr",
     "output_type": "stream",
     "text": [
      "100%|██████████| 4542/4542 [00:00<00:00, 8952316.15it/s]\n"
     ]
    },
    {
     "name": "stdout",
     "output_type": "stream",
     "text": [
      "Extracting data/MNIST/raw/t10k-labels-idx1-ubyte.gz to data/MNIST/raw\n",
      "\n"
     ]
    }
   ],
   "source": [
    "dataset = MNIST(root='data/',download=True, transform=ToTensor())"
   ]
  },
  {
   "cell_type": "code",
   "execution_count": 4,
   "id": "6417904a",
   "metadata": {
    "execution": {
     "iopub.execute_input": "2023-11-04T17:31:50.802391Z",
     "iopub.status.busy": "2023-11-04T17:31:50.801450Z",
     "iopub.status.idle": "2023-11-04T17:31:50.810046Z",
     "shell.execute_reply": "2023-11-04T17:31:50.808941Z"
    },
    "papermill": {
     "duration": 0.041613,
     "end_time": "2023-11-04T17:31:50.812321",
     "exception": false,
     "start_time": "2023-11-04T17:31:50.770708",
     "status": "completed"
    },
    "tags": []
   },
   "outputs": [
    {
     "data": {
      "text/plain": [
       "60000"
      ]
     },
     "execution_count": 4,
     "metadata": {},
     "output_type": "execute_result"
    }
   ],
   "source": [
    "len(dataset)"
   ]
  },
  {
   "cell_type": "markdown",
   "id": "c4feef94",
   "metadata": {
    "papermill": {
     "duration": 0.028388,
     "end_time": "2023-11-04T17:31:50.869351",
     "exception": false,
     "start_time": "2023-11-04T17:31:50.840963",
     "status": "completed"
    },
    "tags": []
   },
   "source": [
    "Let's look at a couple of images from the dataset. The images are converted to PyTorch tensors with the shape `1x28x28` (the dimensions represent color channels, width and height). We can use `plt.imshow` to display the images. However, `plt.imshow` expects channels to be last dimension in an image tensor, so we use the `permute` method to reorder the dimensions of the image."
   ]
  },
  {
   "cell_type": "code",
   "execution_count": 5,
   "id": "a217f8e5",
   "metadata": {
    "execution": {
     "iopub.execute_input": "2023-11-04T17:31:50.929905Z",
     "iopub.status.busy": "2023-11-04T17:31:50.929128Z",
     "iopub.status.idle": "2023-11-04T17:31:50.968809Z",
     "shell.execute_reply": "2023-11-04T17:31:50.967527Z"
    },
    "papermill": {
     "duration": 0.072995,
     "end_time": "2023-11-04T17:31:50.971216",
     "exception": false,
     "start_time": "2023-11-04T17:31:50.898221",
     "status": "completed"
    },
    "tags": []
   },
   "outputs": [
    {
     "data": {
      "text/plain": [
       "torch.Size([28, 28, 1])"
      ]
     },
     "execution_count": 5,
     "metadata": {},
     "output_type": "execute_result"
    }
   ],
   "source": [
    "image,label = dataset[0]\n",
    "image.permute(1,2,0).shape"
   ]
  },
  {
   "cell_type": "code",
   "execution_count": 6,
   "id": "79fd0f38",
   "metadata": {
    "execution": {
     "iopub.execute_input": "2023-11-04T17:31:51.032165Z",
     "iopub.status.busy": "2023-11-04T17:31:51.031662Z",
     "iopub.status.idle": "2023-11-04T17:31:51.354628Z",
     "shell.execute_reply": "2023-11-04T17:31:51.353166Z"
    },
    "papermill": {
     "duration": 0.357314,
     "end_time": "2023-11-04T17:31:51.357373",
     "exception": false,
     "start_time": "2023-11-04T17:31:51.000059",
     "status": "completed"
    },
    "tags": []
   },
   "outputs": [
    {
     "name": "stdout",
     "output_type": "stream",
     "text": [
      "image.shape: torch.Size([1, 28, 28])\n",
      "Label: 5\n"
     ]
    },
    {
     "data": {
      "image/png": "[encoded data removed]",
      "text/plain": [
       "<Figure size 640x480 with 1 Axes>"
      ]
     },
     "metadata": {},
     "output_type": "display_data"
    }
   ],
   "source": [
    "image, label = dataset[0]\n",
    "print('image.shape:',image.shape)\n",
    "plt.imshow(image.permute(1,2,0),cmap='gray')\n",
    "print('Label:',label)"
   ]
  },
  {
   "cell_type": "markdown",
   "id": "7a98231b",
   "metadata": {
    "papermill": {
     "duration": 0.030662,
     "end_time": "2023-11-04T17:31:51.418178",
     "exception": false,
     "start_time": "2023-11-04T17:31:51.387516",
     "status": "completed"
    },
    "tags": []
   },
   "source": [
    "Next, let's use the `random_split` helper function to set aside 10000 images for our validation set."
   ]
  },
  {
   "cell_type": "code",
   "execution_count": 7,
   "id": "ac1e6566",
   "metadata": {
    "execution": {
     "iopub.execute_input": "2023-11-04T17:31:51.482002Z",
     "iopub.status.busy": "2023-11-04T17:31:51.481141Z",
     "iopub.status.idle": "2023-11-04T17:31:51.503933Z",
     "shell.execute_reply": "2023-11-04T17:31:51.502909Z"
    },
    "papermill": {
     "duration": 0.058648,
     "end_time": "2023-11-04T17:31:51.506416",
     "exception": false,
     "start_time": "2023-11-04T17:31:51.447768",
     "status": "completed"
    },
    "tags": []
   },
   "outputs": [
    {
     "data": {
      "text/plain": [
       "(50000, 10000)"
      ]
     },
     "execution_count": 7,
     "metadata": {},
     "output_type": "execute_result"
    }
   ],
   "source": [
    "val_size = 10000\n",
    "train_size = len(dataset) - val_size\n",
    "\n",
    "train_ds, val_ds = random_split(dataset,[train_size,val_size])\n",
    "len(train_ds),len(val_ds)"
   ]
  },
  {
   "cell_type": "markdown",
   "id": "d27787ac",
   "metadata": {
    "papermill": {
     "duration": 0.029254,
     "end_time": "2023-11-04T17:31:51.565627",
     "exception": false,
     "start_time": "2023-11-04T17:31:51.536373",
     "status": "completed"
    },
    "tags": []
   },
   "source": [
    "We can now create PyTorch data loaders for training and validation."
   ]
  },
  {
   "cell_type": "code",
   "execution_count": 8,
   "id": "e43ee722",
   "metadata": {
    "execution": {
     "iopub.execute_input": "2023-11-04T17:31:51.628862Z",
     "iopub.status.busy": "2023-11-04T17:31:51.628059Z",
     "iopub.status.idle": "2023-11-04T17:31:51.632507Z",
     "shell.execute_reply": "2023-11-04T17:31:51.631679Z"
    },
    "papermill": {
     "duration": 0.038282,
     "end_time": "2023-11-04T17:31:51.634747",
     "exception": false,
     "start_time": "2023-11-04T17:31:51.596465",
     "status": "completed"
    },
    "tags": []
   },
   "outputs": [],
   "source": [
    "batch_size = 128"
   ]
  },
  {
   "cell_type": "code",
   "execution_count": 9,
   "id": "e929e922",
   "metadata": {
    "execution": {
     "iopub.execute_input": "2023-11-04T17:31:51.698671Z",
     "iopub.status.busy": "2023-11-04T17:31:51.697776Z",
     "iopub.status.idle": "2023-11-04T17:31:51.703906Z",
     "shell.execute_reply": "2023-11-04T17:31:51.703093Z"
    },
    "papermill": {
     "duration": 0.041843,
     "end_time": "2023-11-04T17:31:51.706186",
     "exception": false,
     "start_time": "2023-11-04T17:31:51.664343",
     "status": "completed"
    },
    "tags": []
   },
   "outputs": [],
   "source": [
    "train_loader = DataLoader(train_ds,batch_size,shuffle=True,num_workers=4, pin_memory=True)\n",
    "val_loader = DataLoader(val_ds,batch_size*2,num_workers=4, pin_memory=True)"
   ]
  },
  {
   "cell_type": "markdown",
   "id": "0eba3cc3",
   "metadata": {
    "papermill": {
     "duration": 0.02919,
     "end_time": "2023-11-04T17:31:51.765360",
     "exception": false,
     "start_time": "2023-11-04T17:31:51.736170",
     "status": "completed"
    },
    "tags": []
   },
   "source": [
    "Can you figure out the purpose of the arguments `num_workers` and `pin_memory`? Try looking into the documentation: https://pytorch.org/docs/stable/data.html .\n",
    "\n",
    "Let's visualize a batch of data in a grid using the `make_grid` function from `torchvision`. We'll also use the `.permute` method on the tensor to move the channels to the last dimension, as expected by `matplotlib`."
   ]
  },
  {
   "cell_type": "code",
   "execution_count": 10,
   "id": "d674a9b0",
   "metadata": {
    "execution": {
     "iopub.execute_input": "2023-11-04T17:31:51.826548Z",
     "iopub.status.busy": "2023-11-04T17:31:51.825756Z",
     "iopub.status.idle": "2023-11-04T17:31:52.074374Z",
     "shell.execute_reply": "2023-11-04T17:31:52.072145Z"
    },
    "papermill": {
     "duration": 0.282472,
     "end_time": "2023-11-04T17:31:52.077115",
     "exception": false,
     "start_time": "2023-11-04T17:31:51.794643",
     "status": "completed"
    },
    "tags": []
   },
   "outputs": [
    {
     "name": "stdout",
     "output_type": "stream",
     "text": [
      "Images.shape:  torch.Size([128, 1, 28, 28])\n",
      "grid.shape  torch.Size([3, 242, 482])\n"
     ]
    }
   ],
   "source": [
    "for images,_ in train_loader:\n",
    "    print('Images.shape: ',images.shape)\n",
    "    print('grid.shape ',make_grid(images,nrow=16).shape)\n",
    "    break"
   ]
  },
  {
   "cell_type": "code",
   "execution_count": 11,
   "id": "1d2f209e",
   "metadata": {
    "execution": {
     "iopub.execute_input": "2023-11-04T17:31:52.141300Z",
     "iopub.status.busy": "2023-11-04T17:31:52.140846Z",
     "iopub.status.idle": "2023-11-04T17:31:52.840441Z",
     "shell.execute_reply": "2023-11-04T17:31:52.838805Z"
    },
    "papermill": {
     "duration": 0.739358,
     "end_time": "2023-11-04T17:31:52.847300",
     "exception": false,
     "start_time": "2023-11-04T17:31:52.107942",
     "status": "completed"
    },
    "tags": []
   },
   "outputs": [
    {
     "name": "stdout",
     "output_type": "stream",
     "text": [
      "Images.shape:  torch.Size([128, 1, 28, 28])\n"
     ]
    },
    {
     "data": {
      "image/png": "[encoded data removed]",
      "text/plain": [
       "<Figure size 1600x800 with 1 Axes>"
      ]
     },
     "metadata": {},
     "output_type": "display_data"
    }
   ],
   "source": [
    "for images,_ in train_loader:\n",
    "    print('Images.shape: ',images.shape)\n",
    "    plt.figure(figsize=(16,8))\n",
    "    plt.axis('off')\n",
    "    plt.imshow(make_grid(images,nrow=16).permute((1,2,0)))\n",
    "    break"
   ]
  },
  {
   "cell_type": "markdown",
   "id": "ef3ed438",
   "metadata": {
    "papermill": {
     "duration": 0.036148,
     "end_time": "2023-11-04T17:31:52.920999",
     "exception": false,
     "start_time": "2023-11-04T17:31:52.884851",
     "status": "completed"
    },
    "tags": []
   },
   "source": [
    "## Hidden Layers, Activation Functions and Non-Linearity\n",
    "\n",
    "We'll create a neural network with two layers: a _hidden layer_ and an _output layer_. Additionally, we'll use an _activation function_ between the two layers. Let's look at a step-by-step example to learn how hidden layers and activation functions can help capture non-linear relationships between inputs and outputs.\n",
    "\n",
    "First, let's create a batch of inputs tensors. We'll flatten the `1x28x28` images into vectors of size `784`, so they can be passed into an `nn.Linear` object."
   ]
  },
  {
   "cell_type": "code",
   "execution_count": 12,
   "id": "49aa5584",
   "metadata": {
    "execution": {
     "iopub.execute_input": "2023-11-04T17:31:52.996774Z",
     "iopub.status.busy": "2023-11-04T17:31:52.996307Z",
     "iopub.status.idle": "2023-11-04T17:31:53.177650Z",
     "shell.execute_reply": "2023-11-04T17:31:53.175842Z"
    },
    "papermill": {
     "duration": 0.223139,
     "end_time": "2023-11-04T17:31:53.180703",
     "exception": false,
     "start_time": "2023-11-04T17:31:52.957564",
     "status": "completed"
    },
    "tags": []
   },
   "outputs": [
    {
     "name": "stdout",
     "output_type": "stream",
     "text": [
      "images.shape torch.Size([128, 1, 28, 28])\n",
      "inputs.shape torch.Size([128, 784])\n"
     ]
    }
   ],
   "source": [
    "for images, labels in train_loader:\n",
    "    print('images.shape', images.shape)\n",
    "    inputs = images.reshape(-1,784)\n",
    "    print('inputs.shape',inputs.shape)\n",
    "    break"
   ]
  },
  {
   "cell_type": "markdown",
   "id": "605b50fb",
   "metadata": {
    "papermill": {
     "duration": 0.03646,
     "end_time": "2023-11-04T17:31:53.254781",
     "exception": false,
     "start_time": "2023-11-04T17:31:53.218321",
     "status": "completed"
    },
    "tags": []
   },
   "source": [
    "Next, let's create a `nn.Linear` object, which will serve as our _hidden_ layer. We'll set the size of the output from the hidden layer to 32. This number can be increased or decreased to change the _learning capacity_ of the model."
   ]
  },
  {
   "cell_type": "code",
   "execution_count": 13,
   "id": "e64b96aa",
   "metadata": {
    "execution": {
     "iopub.execute_input": "2023-11-04T17:31:53.329883Z",
     "iopub.status.busy": "2023-11-04T17:31:53.329391Z",
     "iopub.status.idle": "2023-11-04T17:31:53.336010Z",
     "shell.execute_reply": "2023-11-04T17:31:53.334725Z"
    },
    "papermill": {
     "duration": 0.047333,
     "end_time": "2023-11-04T17:31:53.338516",
     "exception": false,
     "start_time": "2023-11-04T17:31:53.291183",
     "status": "completed"
    },
    "tags": []
   },
   "outputs": [],
   "source": [
    "input_size = inputs.shape[-1]\n",
    "hidden_size = 32"
   ]
  },
  {
   "cell_type": "code",
   "execution_count": 14,
   "id": "01fd8fc1",
   "metadata": {
    "execution": {
     "iopub.execute_input": "2023-11-04T17:31:53.414656Z",
     "iopub.status.busy": "2023-11-04T17:31:53.413518Z",
     "iopub.status.idle": "2023-11-04T17:31:53.420704Z",
     "shell.execute_reply": "2023-11-04T17:31:53.419626Z"
    },
    "papermill": {
     "duration": 0.048273,
     "end_time": "2023-11-04T17:31:53.423399",
     "exception": false,
     "start_time": "2023-11-04T17:31:53.375126",
     "status": "completed"
    },
    "tags": []
   },
   "outputs": [],
   "source": [
    "layer1 = nn.Linear(input_size,hidden_size)"
   ]
  },
  {
   "cell_type": "markdown",
   "id": "17dcd122",
   "metadata": {
    "papermill": {
     "duration": 0.036557,
     "end_time": "2023-11-04T17:31:53.496563",
     "exception": false,
     "start_time": "2023-11-04T17:31:53.460006",
     "status": "completed"
    },
    "tags": []
   },
   "source": [
    "We can now compute intermediate outputs for the batch of images by passing `inputs` through `layer1`."
   ]
  },
  {
   "cell_type": "code",
   "execution_count": 15,
   "id": "83a6aeeb",
   "metadata": {
    "execution": {
     "iopub.execute_input": "2023-11-04T17:31:53.575357Z",
     "iopub.status.busy": "2023-11-04T17:31:53.574889Z",
     "iopub.status.idle": "2023-11-04T17:31:53.583242Z",
     "shell.execute_reply": "2023-11-04T17:31:53.582048Z"
    },
    "papermill": {
     "duration": 0.049609,
     "end_time": "2023-11-04T17:31:53.585754",
     "exception": false,
     "start_time": "2023-11-04T17:31:53.536145",
     "status": "completed"
    },
    "tags": []
   },
   "outputs": [
    {
     "data": {
      "text/plain": [
       "torch.Size([128, 784])"
      ]
     },
     "execution_count": 15,
     "metadata": {},
     "output_type": "execute_result"
    }
   ],
   "source": [
    "inputs.shape"
   ]
  },
  {
   "cell_type": "code",
   "execution_count": 16,
   "id": "80f49f55",
   "metadata": {
    "execution": {
     "iopub.execute_input": "2023-11-04T17:31:53.664944Z",
     "iopub.status.busy": "2023-11-04T17:31:53.664386Z",
     "iopub.status.idle": "2023-11-04T17:31:53.688735Z",
     "shell.execute_reply": "2023-11-04T17:31:53.687627Z"
    },
    "papermill": {
     "duration": 0.06779,
     "end_time": "2023-11-04T17:31:53.692424",
     "exception": false,
     "start_time": "2023-11-04T17:31:53.624634",
     "status": "completed"
    },
    "tags": []
   },
   "outputs": [
    {
     "name": "stdout",
     "output_type": "stream",
     "text": [
      "layer1_outputs.shape:  torch.Size([128, 32])\n"
     ]
    }
   ],
   "source": [
    "layer1_outputs = layer1(inputs)\n",
    "print('layer1_outputs.shape: ',layer1_outputs.shape)"
   ]
  },
  {
   "cell_type": "markdown",
   "id": "b66e20a9",
   "metadata": {
    "papermill": {
     "duration": 0.039613,
     "end_time": "2023-11-04T17:31:53.780710",
     "exception": false,
     "start_time": "2023-11-04T17:31:53.741097",
     "status": "completed"
    },
    "tags": []
   },
   "source": [
    "The image vectors of size `784` are transformed into intermediate output vectors of length `32` by performing a matrix multiplication of `inputs` matrix with the transposed weights matrix of `layer1` and adding the bias. We can verify this using `torch.allclose`. For a more detailed explanation, review the tutorial on [linear regression](https://jovian.ai/aakashns/02-linear-regression)."
   ]
  },
  {
   "cell_type": "code",
   "execution_count": 17,
   "id": "7123cfd6",
   "metadata": {
    "execution": {
     "iopub.execute_input": "2023-11-04T17:31:53.852635Z",
     "iopub.status.busy": "2023-11-04T17:31:53.852188Z",
     "iopub.status.idle": "2023-11-04T17:31:53.866253Z",
     "shell.execute_reply": "2023-11-04T17:31:53.865173Z"
    },
    "papermill": {
     "duration": 0.052773,
     "end_time": "2023-11-04T17:31:53.868448",
     "exception": false,
     "start_time": "2023-11-04T17:31:53.815675",
     "status": "completed"
    },
    "tags": []
   },
   "outputs": [
    {
     "data": {
      "text/plain": [
       "torch.Size([128, 32])"
      ]
     },
     "execution_count": 17,
     "metadata": {},
     "output_type": "execute_result"
    }
   ],
   "source": [
    "layer1_outputs_direct = inputs @ layer1.weight.t() + layer1.bias\n",
    "layer1_outputs_direct.shape"
   ]
  },
  {
   "cell_type": "code",
   "execution_count": 18,
   "id": "1b03b7e9",
   "metadata": {
    "execution": {
     "iopub.execute_input": "2023-11-04T17:31:53.941938Z",
     "iopub.status.busy": "2023-11-04T17:31:53.940434Z",
     "iopub.status.idle": "2023-11-04T17:31:53.960483Z",
     "shell.execute_reply": "2023-11-04T17:31:53.959335Z"
    },
    "papermill": {
     "duration": 0.059186,
     "end_time": "2023-11-04T17:31:53.962804",
     "exception": false,
     "start_time": "2023-11-04T17:31:53.903618",
     "status": "completed"
    },
    "tags": []
   },
   "outputs": [
    {
     "data": {
      "text/plain": [
       "True"
      ]
     },
     "execution_count": 18,
     "metadata": {},
     "output_type": "execute_result"
    }
   ],
   "source": [
    "torch.allclose(layer1_outputs,layer1_outputs_direct, 1e-3) # Checking if both values are close to 0.001"
   ]
  },
  {
   "cell_type": "markdown",
   "id": "bd665e49",
   "metadata": {
    "papermill": {
     "duration": 0.03561,
     "end_time": "2023-11-04T17:31:54.034177",
     "exception": false,
     "start_time": "2023-11-04T17:31:53.998567",
     "status": "completed"
    },
    "tags": []
   },
   "source": [
    "Thus, `layer1_outputs` and `inputs` have a linear relationship, i.e., each element of `layer_outputs` is a weighted sum of elements from `inputs`. Thus, even as we train the model and modify the weights, `layer1` can only capture linear relationships between `inputs` and `outputs`.\n",
    "\n",
    "<img src=\"https://i.imgur.com/inXsLuq.png\" width=\"360\">"
   ]
  },
  {
   "cell_type": "markdown",
   "id": "2150cdab",
   "metadata": {
    "papermill": {
     "duration": 0.03525,
     "end_time": "2023-11-04T17:31:54.105280",
     "exception": false,
     "start_time": "2023-11-04T17:31:54.070030",
     "status": "completed"
    },
    "tags": []
   },
   "source": [
    "Next, we'll use the Rectified Linear Unit (ReLU) function as the activation function for the outputs. It has the formula `relu(x) = max(0,x)` i.e. it simply replaces negative values in a given tensor with the value 0. ReLU is a non-linear function, as seen here visually:\n",
    "\n",
    "<img src=\"https://i.imgur.com/yijV4xF.png\" width=\"420\">\n",
    "\n",
    "We can use the `F.relu` method to apply ReLU to the elements of a tensor."
   ]
  },
  {
   "cell_type": "code",
   "execution_count": 19,
   "id": "a959964c",
   "metadata": {
    "execution": {
     "iopub.execute_input": "2023-11-04T17:31:54.179296Z",
     "iopub.status.busy": "2023-11-04T17:31:54.178169Z",
     "iopub.status.idle": "2023-11-04T17:31:54.201982Z",
     "shell.execute_reply": "2023-11-04T17:31:54.200609Z"
    },
    "papermill": {
     "duration": 0.06319,
     "end_time": "2023-11-04T17:31:54.204518",
     "exception": false,
     "start_time": "2023-11-04T17:31:54.141328",
     "status": "completed"
    },
    "tags": []
   },
   "outputs": [
    {
     "data": {
      "text/plain": [
       "tensor([[1.0000, 0.0000, 0.0000],\n",
       "        [0.0000, 0.2000, 3.0000]])"
      ]
     },
     "execution_count": 19,
     "metadata": {},
     "output_type": "execute_result"
    }
   ],
   "source": [
    "F.relu(torch.tensor([[1,-1,0],\n",
    "                    [-0.1,.2,3]]))"
   ]
  },
  {
   "cell_type": "markdown",
   "id": "f252e7e8",
   "metadata": {
    "papermill": {
     "duration": 0.037396,
     "end_time": "2023-11-04T17:31:54.278936",
     "exception": false,
     "start_time": "2023-11-04T17:31:54.241540",
     "status": "completed"
    },
    "tags": []
   },
   "source": [
    "Let's apply the activation function to `layer1_outputs` and verify that negative values were replaced with 0."
   ]
  },
  {
   "cell_type": "code",
   "execution_count": 20,
   "id": "dda5d63a",
   "metadata": {
    "execution": {
     "iopub.execute_input": "2023-11-04T17:31:54.356090Z",
     "iopub.status.busy": "2023-11-04T17:31:54.354994Z",
     "iopub.status.idle": "2023-11-04T17:31:54.364243Z",
     "shell.execute_reply": "2023-11-04T17:31:54.362770Z"
    },
    "papermill": {
     "duration": 0.050483,
     "end_time": "2023-11-04T17:31:54.366620",
     "exception": false,
     "start_time": "2023-11-04T17:31:54.316137",
     "status": "completed"
    },
    "tags": []
   },
   "outputs": [
    {
     "name": "stdout",
     "output_type": "stream",
     "text": [
      "min(layer1_outputs):  -0.5897296667098999\n",
      "min(relu_ouputs):  0.0\n"
     ]
    }
   ],
   "source": [
    "relu_outputs = F.relu(layer1_outputs)\n",
    "print('min(layer1_outputs): ',torch.min(layer1_outputs).item())\n",
    "print('min(relu_ouputs): ', torch.min(relu_outputs).item())"
   ]
  },
  {
   "cell_type": "markdown",
   "id": "43283e48",
   "metadata": {
    "papermill": {
     "duration": 0.037458,
     "end_time": "2023-11-04T17:31:54.442200",
     "exception": false,
     "start_time": "2023-11-04T17:31:54.404742",
     "status": "completed"
    },
    "tags": []
   },
   "source": [
    "Now that we've applied a non-linear activation function, `relu_outputs` and `inputs` do not have a linear relationship. We refer to `ReLU` as the _activation function_, because for each input certain outputs are activated (those with non-zero values) while others turned off (those with zero values)\n",
    "\n",
    "Next, let's create an output layer to convert vectors of length `hidden_size` in `relu_outputs` into vectors of length 10, which is the desired output of our model (since there are 10 target labels)."
   ]
  },
  {
   "cell_type": "code",
   "execution_count": 21,
   "id": "c379a58c",
   "metadata": {
    "execution": {
     "iopub.execute_input": "2023-11-04T17:31:54.521396Z",
     "iopub.status.busy": "2023-11-04T17:31:54.519859Z",
     "iopub.status.idle": "2023-11-04T17:31:54.526425Z",
     "shell.execute_reply": "2023-11-04T17:31:54.525506Z"
    },
    "papermill": {
     "duration": 0.048059,
     "end_time": "2023-11-04T17:31:54.528751",
     "exception": false,
     "start_time": "2023-11-04T17:31:54.480692",
     "status": "completed"
    },
    "tags": []
   },
   "outputs": [],
   "source": [
    "output_size = 10\n",
    "layer2 = nn.Linear(hidden_size,output_size)"
   ]
  },
  {
   "cell_type": "code",
   "execution_count": 22,
   "id": "030cb35b",
   "metadata": {
    "execution": {
     "iopub.execute_input": "2023-11-04T17:31:54.608607Z",
     "iopub.status.busy": "2023-11-04T17:31:54.606772Z",
     "iopub.status.idle": "2023-11-04T17:31:54.616122Z",
     "shell.execute_reply": "2023-11-04T17:31:54.614676Z"
    },
    "papermill": {
     "duration": 0.05107,
     "end_time": "2023-11-04T17:31:54.618557",
     "exception": false,
     "start_time": "2023-11-04T17:31:54.567487",
     "status": "completed"
    },
    "tags": []
   },
   "outputs": [
    {
     "name": "stdout",
     "output_type": "stream",
     "text": [
      "torch.Size([128, 10])\n"
     ]
    }
   ],
   "source": [
    "layer2_outputs = layer2(relu_outputs)\n",
    "print(layer2_outputs.shape)"
   ]
  },
  {
   "cell_type": "markdown",
   "id": "5fcf8d3d",
   "metadata": {
    "papermill": {
     "duration": 0.036455,
     "end_time": "2023-11-04T17:31:54.691230",
     "exception": false,
     "start_time": "2023-11-04T17:31:54.654775",
     "status": "completed"
    },
    "tags": []
   },
   "source": [
    "As expected, `layer2_outputs` contains a batch of vectors of size 10. We can now use this output to compute the loss using `F.cross_entropy` and adjust the weights of `layer1` and `layer2` using gradient descent."
   ]
  },
  {
   "cell_type": "code",
   "execution_count": 23,
   "id": "e480a0b7",
   "metadata": {
    "execution": {
     "iopub.execute_input": "2023-11-04T17:31:54.767744Z",
     "iopub.status.busy": "2023-11-04T17:31:54.766867Z",
     "iopub.status.idle": "2023-11-04T17:31:54.786234Z",
     "shell.execute_reply": "2023-11-04T17:31:54.785010Z"
    },
    "papermill": {
     "duration": 0.060526,
     "end_time": "2023-11-04T17:31:54.788737",
     "exception": false,
     "start_time": "2023-11-04T17:31:54.728211",
     "status": "completed"
    },
    "tags": []
   },
   "outputs": [
    {
     "data": {
      "text/plain": [
       "tensor(2.3015, grad_fn=<NllLossBackward0>)"
      ]
     },
     "execution_count": 23,
     "metadata": {},
     "output_type": "execute_result"
    }
   ],
   "source": [
    "F.cross_entropy(layer2_outputs,labels)"
   ]
  },
  {
   "cell_type": "markdown",
   "id": "f54e4203",
   "metadata": {
    "papermill": {
     "duration": 0.037364,
     "end_time": "2023-11-04T17:31:54.863526",
     "exception": false,
     "start_time": "2023-11-04T17:31:54.826162",
     "status": "completed"
    },
    "tags": []
   },
   "source": [
    "Thus, our model transforms `inputs` into `layer2_outputs` by applying a linear transformation (using `layer1`), followed by a non-linear activation (using `F.relu`), followed by another linear transformation (using `layer2`). Let's verify this by re-computing the output using basic matrix operations."
   ]
  },
  {
   "cell_type": "code",
   "execution_count": 24,
   "id": "63267ce1",
   "metadata": {
    "execution": {
     "iopub.execute_input": "2023-11-04T17:31:54.941063Z",
     "iopub.status.busy": "2023-11-04T17:31:54.940636Z",
     "iopub.status.idle": "2023-11-04T17:31:54.948817Z",
     "shell.execute_reply": "2023-11-04T17:31:54.947618Z"
    },
    "papermill": {
     "duration": 0.049919,
     "end_time": "2023-11-04T17:31:54.951425",
     "exception": false,
     "start_time": "2023-11-04T17:31:54.901506",
     "status": "completed"
    },
    "tags": []
   },
   "outputs": [],
   "source": [
    "# Expanded version of layer2(F.relu(layer1(inputs)))\n",
    "outputs = (F.relu(inputs @ layer1.weight.t() + layer1.bias)) @ layer2.weight.t() + layer2.bias"
   ]
  },
  {
   "cell_type": "code",
   "execution_count": 25,
   "id": "2c45e379",
   "metadata": {
    "execution": {
     "iopub.execute_input": "2023-11-04T17:31:55.028110Z",
     "iopub.status.busy": "2023-11-04T17:31:55.027620Z",
     "iopub.status.idle": "2023-11-04T17:31:55.036736Z",
     "shell.execute_reply": "2023-11-04T17:31:55.035372Z"
    },
    "papermill": {
     "duration": 0.049774,
     "end_time": "2023-11-04T17:31:55.039258",
     "exception": false,
     "start_time": "2023-11-04T17:31:54.989484",
     "status": "completed"
    },
    "tags": []
   },
   "outputs": [
    {
     "data": {
      "text/plain": [
       "True"
      ]
     },
     "execution_count": 25,
     "metadata": {},
     "output_type": "execute_result"
    }
   ],
   "source": [
    "torch.allclose(outputs,layer2_outputs,1e-3)"
   ]
  },
  {
   "cell_type": "markdown",
   "id": "510c6a91",
   "metadata": {
    "papermill": {
     "duration": 0.036773,
     "end_time": "2023-11-04T17:31:55.112488",
     "exception": false,
     "start_time": "2023-11-04T17:31:55.075715",
     "status": "completed"
    },
    "tags": []
   },
   "source": [
    "Note that `outputs` and `inputs` do not have a linear relationship due to the non-linear activation function `F.relu`. As we train the model and adjust the weights of `layer1` and `layer2`, we can now capture non-linear relationships between the images and their labels. In other words, introducing non-linearity makes the model more powerful and versatile. Also, since `hidden_size` does not depend on the dimensions of the inputs or outputs, we vary it to increase the number of parameters within the model. We can also introduce new hidden layers and apply the same non-linear activation after each hidden layer.\n",
    "\n",
    "The model we just created is called a neural network. A _deep neural network_ is simply a neural network with one or more hidden layers. In fact, the [Universal Approximation Theorem](http://neuralnetworksanddeeplearning.com/chap4.html) states that a sufficiently large & deep neural network can compute any arbitrary function i.e. it can _learn_ rich and complex non-linear relationships between inputs and targets. Here are some examples:\n",
    "\n",
    "* Identifying if an image contains a cat or a dog (or [something else](https://machinelearningmastery.com/introduction-to-the-imagenet-large-scale-visual-recognition-challenge-ilsvrc/))\n",
    "* Identifying the genre of a song using a 10-second sample\n",
    "* Classifying movie reviews as positive or negative based on their content\n",
    "* Navigating self-driving cars using a video feed of the road\n",
    "* Translating sentences from English to French (and hundreds of other languages)\n",
    "* Converting a speech recording to text and vice versa\n",
    "* And many more...\n",
    "\n",
    "It's hard to imagine how the simple process of multiplying inputs with randomly initialized matrices, applying non-linear activations, and adjusting weights repeatedly using gradient descent can yield such astounding results. Deep learning models often contain millions of parameters, which can together capture far more complex relationships than the human brain can comprehend.\n",
    "\n",
    "If we hadn't included a non-linear activation between the two linear layers, the final relationship between inputs and outputs would still be linear. A simple refactoring of the computations illustrates this."
   ]
  },
  {
   "cell_type": "code",
   "execution_count": 26,
   "id": "bc0301f0",
   "metadata": {
    "execution": {
     "iopub.execute_input": "2023-11-04T17:31:55.188085Z",
     "iopub.status.busy": "2023-11-04T17:31:55.187654Z",
     "iopub.status.idle": "2023-11-04T17:31:55.193895Z",
     "shell.execute_reply": "2023-11-04T17:31:55.192876Z"
    },
    "papermill": {
     "duration": 0.047581,
     "end_time": "2023-11-04T17:31:55.196085",
     "exception": false,
     "start_time": "2023-11-04T17:31:55.148504",
     "status": "completed"
    },
    "tags": []
   },
   "outputs": [],
   "source": [
    "# Same as layer2(layer1(inputs))\n",
    "outputs2 = (inputs @ layer1.weight.t() + layer1.bias) @ layer2.weight.t() + layer2.bias"
   ]
  },
  {
   "cell_type": "code",
   "execution_count": 27,
   "id": "588183f9",
   "metadata": {
    "execution": {
     "iopub.execute_input": "2023-11-04T17:31:55.272459Z",
     "iopub.status.busy": "2023-11-04T17:31:55.271017Z",
     "iopub.status.idle": "2023-11-04T17:31:55.284839Z",
     "shell.execute_reply": "2023-11-04T17:31:55.283821Z"
    },
    "papermill": {
     "duration": 0.053944,
     "end_time": "2023-11-04T17:31:55.287336",
     "exception": false,
     "start_time": "2023-11-04T17:31:55.233392",
     "status": "completed"
    },
    "tags": []
   },
   "outputs": [],
   "source": [
    "# Create a single layer to replace the two linear layers\n",
    "combined_layer = nn.Linear(input_size, output_size)\n",
    "\n",
    "combined_layer.weight.data = layer2.weight @ layer1.weight\n",
    "combined_layer.bias.data = layer1.bias @ layer2.weight.t() + layer2.bias"
   ]
  },
  {
   "cell_type": "code",
   "execution_count": 28,
   "id": "384afcdf",
   "metadata": {
    "execution": {
     "iopub.execute_input": "2023-11-04T17:31:55.362208Z",
     "iopub.status.busy": "2023-11-04T17:31:55.361075Z",
     "iopub.status.idle": "2023-11-04T17:31:55.367866Z",
     "shell.execute_reply": "2023-11-04T17:31:55.366566Z"
    },
    "papermill": {
     "duration": 0.046872,
     "end_time": "2023-11-04T17:31:55.370317",
     "exception": false,
     "start_time": "2023-11-04T17:31:55.323445",
     "status": "completed"
    },
    "tags": []
   },
   "outputs": [],
   "source": [
    "# Same as combined_layer(inputs)\n",
    "outputs3 = inputs @ combined_layer.weight.t() + combined_layer.bias"
   ]
  },
  {
   "cell_type": "code",
   "execution_count": 29,
   "id": "b89a6409",
   "metadata": {
    "execution": {
     "iopub.execute_input": "2023-11-04T17:31:55.445312Z",
     "iopub.status.busy": "2023-11-04T17:31:55.444852Z",
     "iopub.status.idle": "2023-11-04T17:31:55.452990Z",
     "shell.execute_reply": "2023-11-04T17:31:55.451748Z"
    },
    "papermill": {
     "duration": 0.04855,
     "end_time": "2023-11-04T17:31:55.455195",
     "exception": false,
     "start_time": "2023-11-04T17:31:55.406645",
     "status": "completed"
    },
    "tags": []
   },
   "outputs": [
    {
     "data": {
      "text/plain": [
       "True"
      ]
     },
     "execution_count": 29,
     "metadata": {},
     "output_type": "execute_result"
    }
   ],
   "source": [
    "torch.allclose(outputs3,outputs2,1e-3)"
   ]
  },
  {
   "cell_type": "markdown",
   "id": "baa98db3",
   "metadata": {
    "papermill": {
     "duration": 0.036976,
     "end_time": "2023-11-04T17:31:55.528175",
     "exception": false,
     "start_time": "2023-11-04T17:31:55.491199",
     "status": "completed"
    },
    "tags": []
   },
   "source": [
    "## Model\n",
    "\n",
    "We are now ready to define our model. As discussed above, we'll create a neural network with one hidden layer. Here's what that means:\n",
    "\n",
    "* Instead of using a single `nn.Linear` object to transform a batch of inputs (pixel intensities) into outputs (class probabilities), we'll use two `nn.Linear` objects. Each of these is called a _layer_ in the network. \n",
    "\n",
    "* The first layer (also known as the hidden layer) will transform the input matrix of shape `batch_size x 784` into an intermediate output matrix of shape `batch_size x hidden_size`. The parameter `hidden_size` can be configured manually (e.g., 32 or 64).\n",
    "\n",
    "* We'll then apply a non-linear *activation function* to the intermediate outputs. The activation function transforms individual elements of the matrix.\n",
    "\n",
    "* The result of the activation function, which is also of size `batch_size x hidden_size`, is passed into the second layer (also known as the output layer).  The second layer transforms it into a matrix of size `batch_size x 10`. We can use this output to compute the loss and adjust weights using gradient descent.\n",
    "\n",
    "\n",
    "As discussed above, our model will contain one hidden layer. Here's what it looks like visually:\n",
    "\n",
    "<img src=\"https://i.imgur.com/eN7FrpF.png\" width=\"480\">\n",
    "\n",
    "\n",
    "Let's define the model by extending the `nn.Module` class from PyTorch."
   ]
  },
  {
   "cell_type": "code",
   "execution_count": 30,
   "id": "c005af00",
   "metadata": {
    "execution": {
     "iopub.execute_input": "2023-11-04T17:31:55.602726Z",
     "iopub.status.busy": "2023-11-04T17:31:55.602088Z",
     "iopub.status.idle": "2023-11-04T17:31:55.617262Z",
     "shell.execute_reply": "2023-11-04T17:31:55.616362Z"
    },
    "papermill": {
     "duration": 0.05534,
     "end_time": "2023-11-04T17:31:55.619637",
     "exception": false,
     "start_time": "2023-11-04T17:31:55.564297",
     "status": "completed"
    },
    "tags": []
   },
   "outputs": [],
   "source": [
    "class MnistModel(nn.Module):\n",
    "    \"\"\"Feedforward neural network with 1 hidden layer\"\"\"\n",
    "    def __init__(self,in_size,hidden_size,out_size):\n",
    "        super().__init__()\n",
    "        #hidden size\n",
    "        self.linear1 = nn.Linear(in_size, hidden_size)\n",
    "        # output layer\n",
    "        self.linear2 = nn.Linear(hidden_size,out_size)\n",
    "        \n",
    "    def forward(self, xb):\n",
    "        #Flatten the image tensors\n",
    "        xb = xb.view(xb.size(0), -1)\n",
    "        # Get intermediate outputs with the hidden layer\n",
    "        out = self.linear1(xb)\n",
    "        #Apply the activation function\n",
    "        out = F.relu(out)\n",
    "        # Get the prediction using output layer\n",
    "        out = self.linear2(out)\n",
    "        return out\n",
    "    \n",
    "    def training_step(self, batch):\n",
    "        images, labels = batch\n",
    "        out = self(images)          #Generate predictions\n",
    "        loss = F.cross_entropy(out,labels)\n",
    "        return loss\n",
    "    \n",
    "    def validation_step(self,batch):\n",
    "        images,labels = batch\n",
    "        out = self(images)\n",
    "        loss = F.cross_entropy(out,labels)\n",
    "        acc = accuracy(out,labels)\n",
    "        return {'val_loss':loss, 'val_acc':acc}\n",
    "    \n",
    "    def validation_epoch_end(self, outputs):\n",
    "        batch_losses = [x['val_loss'] for x in outputs]\n",
    "        epoch_loss = torch.stack(batch_losses).mean()\n",
    "        batch_accuracies = [x['val_acc'] for x in outputs]\n",
    "        epoch_acc = torch.stack(batch_accuracies).mean()        #Combine accuracies\n",
    "        return {'val_loss':epoch_loss.item(), 'val_acc': epoch_acc.item()}\n",
    "    \n",
    "    def epoch_end(self, epoch, result):\n",
    "        print(\"Epoch [{}], val_loss: {:.4f}, val_acc: {:.4f}\".format(epoch, result['val_loss'],result['val_acc']))"
   ]
  },
  {
   "cell_type": "markdown",
   "id": "b31f7bdc",
   "metadata": {
    "papermill": {
     "duration": 0.036222,
     "end_time": "2023-11-04T17:31:55.692163",
     "exception": false,
     "start_time": "2023-11-04T17:31:55.655941",
     "status": "completed"
    },
    "tags": []
   },
   "source": [
    "We also need to define an `accuracy` function which calculates the accuracy of the model's prediction on an batch of inputs. It's used in `validation_step` above."
   ]
  },
  {
   "cell_type": "code",
   "execution_count": 31,
   "id": "ae486909",
   "metadata": {
    "execution": {
     "iopub.execute_input": "2023-11-04T17:31:55.769505Z",
     "iopub.status.busy": "2023-11-04T17:31:55.768887Z",
     "iopub.status.idle": "2023-11-04T17:31:55.774834Z",
     "shell.execute_reply": "2023-11-04T17:31:55.773986Z"
    },
    "papermill": {
     "duration": 0.048615,
     "end_time": "2023-11-04T17:31:55.777209",
     "exception": false,
     "start_time": "2023-11-04T17:31:55.728594",
     "status": "completed"
    },
    "tags": []
   },
   "outputs": [],
   "source": [
    "def accuracy(outputs,labels):\n",
    "    _,preds = torch.max(outputs,dim=1)\n",
    "    return torch.tensor(torch.sum(preds == labels).item() / len(preds))"
   ]
  },
  {
   "cell_type": "markdown",
   "id": "4e3be3d4",
   "metadata": {
    "papermill": {
     "duration": 0.037394,
     "end_time": "2023-11-04T17:31:55.853275",
     "exception": false,
     "start_time": "2023-11-04T17:31:55.815881",
     "status": "completed"
    },
    "tags": []
   },
   "source": [
    "We'll create a model that contains a hidden layer with 32 activations."
   ]
  },
  {
   "cell_type": "code",
   "execution_count": 32,
   "id": "50464117",
   "metadata": {
    "execution": {
     "iopub.execute_input": "2023-11-04T17:31:55.932094Z",
     "iopub.status.busy": "2023-11-04T17:31:55.931300Z",
     "iopub.status.idle": "2023-11-04T17:31:55.936727Z",
     "shell.execute_reply": "2023-11-04T17:31:55.935890Z"
    },
    "papermill": {
     "duration": 0.047742,
     "end_time": "2023-11-04T17:31:55.939192",
     "exception": false,
     "start_time": "2023-11-04T17:31:55.891450",
     "status": "completed"
    },
    "tags": []
   },
   "outputs": [],
   "source": [
    "input_size = 784\n",
    "hidden_size = 32 #you can change this\n",
    "num_classes = 10"
   ]
  },
  {
   "cell_type": "code",
   "execution_count": 33,
   "id": "f6b7bf88",
   "metadata": {
    "execution": {
     "iopub.execute_input": "2023-11-04T17:31:56.018048Z",
     "iopub.status.busy": "2023-11-04T17:31:56.017236Z",
     "iopub.status.idle": "2023-11-04T17:31:56.023692Z",
     "shell.execute_reply": "2023-11-04T17:31:56.022724Z"
    },
    "papermill": {
     "duration": 0.049362,
     "end_time": "2023-11-04T17:31:56.026356",
     "exception": false,
     "start_time": "2023-11-04T17:31:55.976994",
     "status": "completed"
    },
    "tags": []
   },
   "outputs": [],
   "source": [
    "model = MnistModel(input_size,hidden_size,num_classes)"
   ]
  },
  {
   "cell_type": "markdown",
   "id": "a1d48cd2",
   "metadata": {
    "papermill": {
     "duration": 0.037141,
     "end_time": "2023-11-04T17:31:56.101872",
     "exception": false,
     "start_time": "2023-11-04T17:31:56.064731",
     "status": "completed"
    },
    "tags": []
   },
   "source": [
    "Let's take a look at the model's parameters. We expect to see one weight and bias matrix for each of the layers."
   ]
  },
  {
   "cell_type": "code",
   "execution_count": 34,
   "id": "6932e030",
   "metadata": {
    "execution": {
     "iopub.execute_input": "2023-11-04T17:31:56.181258Z",
     "iopub.status.busy": "2023-11-04T17:31:56.180460Z",
     "iopub.status.idle": "2023-11-04T17:31:56.187086Z",
     "shell.execute_reply": "2023-11-04T17:31:56.185838Z"
    },
    "papermill": {
     "duration": 0.049248,
     "end_time": "2023-11-04T17:31:56.189467",
     "exception": false,
     "start_time": "2023-11-04T17:31:56.140219",
     "status": "completed"
    },
    "tags": []
   },
   "outputs": [
    {
     "name": "stdout",
     "output_type": "stream",
     "text": [
      "torch.Size([32, 784])\n",
      "torch.Size([32])\n",
      "torch.Size([10, 32])\n",
      "torch.Size([10])\n"
     ]
    }
   ],
   "source": [
    "for t in model.parameters():\n",
    "    print(t.shape)"
   ]
  },
  {
   "cell_type": "markdown",
   "id": "b4a1273f",
   "metadata": {
    "papermill": {
     "duration": 0.037678,
     "end_time": "2023-11-04T17:31:56.264664",
     "exception": false,
     "start_time": "2023-11-04T17:31:56.226986",
     "status": "completed"
    },
    "tags": []
   },
   "source": [
    "Let's try and generate some outputs using our model. We'll take the first batch of 128 images from our dataset and pass them into our model."
   ]
  },
  {
   "cell_type": "code",
   "execution_count": 35,
   "id": "90564ca3",
   "metadata": {
    "execution": {
     "iopub.execute_input": "2023-11-04T17:31:56.342741Z",
     "iopub.status.busy": "2023-11-04T17:31:56.341973Z",
     "iopub.status.idle": "2023-11-04T17:31:56.539054Z",
     "shell.execute_reply": "2023-11-04T17:31:56.537566Z"
    },
    "papermill": {
     "duration": 0.239622,
     "end_time": "2023-11-04T17:31:56.541736",
     "exception": false,
     "start_time": "2023-11-04T17:31:56.302114",
     "status": "completed"
    },
    "tags": []
   },
   "outputs": [
    {
     "name": "stdout",
     "output_type": "stream",
     "text": [
      "Loss: 2.3203117847442627\n",
      "outputs.shape :  torch.Size([128, 10])\n",
      "Sample outputs: \n",
      " tensor([[-0.0066, -0.0705,  0.1562, -0.1012, -0.0528,  0.0605, -0.2220,  0.0424,\n",
      "         -0.1412, -0.1516],\n",
      "        [ 0.0671, -0.0376,  0.0494, -0.1202,  0.0414, -0.0053, -0.2636,  0.0011,\n",
      "         -0.2522, -0.1852]])\n"
     ]
    }
   ],
   "source": [
    "for images, labels in train_loader:\n",
    "    outputs = model(images)\n",
    "    loss = F.cross_entropy(outputs,labels)\n",
    "    print('Loss:',loss.item())\n",
    "    break\n",
    "    \n",
    "print('outputs.shape : ',outputs.shape)\n",
    "print('Sample outputs: \\n',outputs[:2].data)"
   ]
  },
  {
   "cell_type": "markdown",
   "id": "7f2fa66e",
   "metadata": {
    "papermill": {
     "duration": 0.040803,
     "end_time": "2023-11-04T17:31:56.621235",
     "exception": false,
     "start_time": "2023-11-04T17:31:56.580432",
     "status": "completed"
    },
    "tags": []
   },
   "source": [
    "## Using a GPU\n",
    "\n",
    "As the sizes of our models and datasets increase, we need to use GPUs to train our models within a reasonable amount of time. GPUs contain hundreds of cores optimized for performing expensive matrix operations on floating-point numbers quickly, making them ideal for training deep neural networks. You can use GPUs for free on [Google Colab](https://colab.research.google.com/) and [Kaggle](https://www.kaggle.com/kernels) or rent GPU-powered machines on services like [Google Cloud Platform](https://cloud.google.com/gpu/), [Amazon Web Services](https://docs.aws.amazon.com/dlami/latest/devguide/gpu.html), and [Paperspace](https://www.paperspace.com/).\n",
    "\n",
    "We can check if a GPU is available and the required NVIDIA CUDA drivers are installed using `torch.cuda.is_available`."
   ]
  },
  {
   "cell_type": "code",
   "execution_count": 36,
   "id": "7489db46",
   "metadata": {
    "execution": {
     "iopub.execute_input": "2023-11-04T17:31:56.700819Z",
     "iopub.status.busy": "2023-11-04T17:31:56.699781Z",
     "iopub.status.idle": "2023-11-04T17:31:56.707029Z",
     "shell.execute_reply": "2023-11-04T17:31:56.706218Z"
    },
    "papermill": {
     "duration": 0.049891,
     "end_time": "2023-11-04T17:31:56.709167",
     "exception": false,
     "start_time": "2023-11-04T17:31:56.659276",
     "status": "completed"
    },
    "tags": []
   },
   "outputs": [
    {
     "data": {
      "text/plain": [
       "False"
      ]
     },
     "execution_count": 36,
     "metadata": {},
     "output_type": "execute_result"
    }
   ],
   "source": [
    "torch.cuda.is_available()"
   ]
  },
  {
   "cell_type": "markdown",
   "id": "a0cf8cd7",
   "metadata": {
    "papermill": {
     "duration": 0.037748,
     "end_time": "2023-11-04T17:31:56.785803",
     "exception": false,
     "start_time": "2023-11-04T17:31:56.748055",
     "status": "completed"
    },
    "tags": []
   },
   "source": [
    "Let's define a helper function to ensure that our code uses the GPU if available and defaults to using the CPU if it isn't. "
   ]
  },
  {
   "cell_type": "code",
   "execution_count": 37,
   "id": "2fb2f76f",
   "metadata": {
    "execution": {
     "iopub.execute_input": "2023-11-04T17:31:56.864776Z",
     "iopub.status.busy": "2023-11-04T17:31:56.864161Z",
     "iopub.status.idle": "2023-11-04T17:31:56.869229Z",
     "shell.execute_reply": "2023-11-04T17:31:56.868196Z"
    },
    "papermill": {
     "duration": 0.047586,
     "end_time": "2023-11-04T17:31:56.871439",
     "exception": false,
     "start_time": "2023-11-04T17:31:56.823853",
     "status": "completed"
    },
    "tags": []
   },
   "outputs": [],
   "source": [
    "def get_default_device():\n",
    "    \"\"\"Pick GPU if available, else CPU\"\"\"\n",
    "    if torch.cuda.is_available():\n",
    "        return torch.device('cuda')\n",
    "    else:\n",
    "        return torch.device('cpu')"
   ]
  },
  {
   "cell_type": "code",
   "execution_count": 38,
   "id": "bb0d0a6a",
   "metadata": {
    "execution": {
     "iopub.execute_input": "2023-11-04T17:31:56.949873Z",
     "iopub.status.busy": "2023-11-04T17:31:56.949213Z",
     "iopub.status.idle": "2023-11-04T17:31:56.956134Z",
     "shell.execute_reply": "2023-11-04T17:31:56.954920Z"
    },
    "papermill": {
     "duration": 0.049368,
     "end_time": "2023-11-04T17:31:56.958665",
     "exception": false,
     "start_time": "2023-11-04T17:31:56.909297",
     "status": "completed"
    },
    "tags": []
   },
   "outputs": [
    {
     "data": {
      "text/plain": [
       "device(type='cpu')"
      ]
     },
     "execution_count": 38,
     "metadata": {},
     "output_type": "execute_result"
    }
   ],
   "source": [
    "device = get_default_device()\n",
    "device"
   ]
  },
  {
   "cell_type": "markdown",
   "id": "f16d2c02",
   "metadata": {
    "papermill": {
     "duration": 0.037929,
     "end_time": "2023-11-04T17:31:57.035679",
     "exception": false,
     "start_time": "2023-11-04T17:31:56.997750",
     "status": "completed"
    },
    "tags": []
   },
   "source": [
    "Next, let's define a function that can move data and model to a chosen device."
   ]
  },
  {
   "cell_type": "code",
   "execution_count": 39,
   "id": "17f7698e",
   "metadata": {
    "execution": {
     "iopub.execute_input": "2023-11-04T17:31:57.114629Z",
     "iopub.status.busy": "2023-11-04T17:31:57.114234Z",
     "iopub.status.idle": "2023-11-04T17:31:57.121026Z",
     "shell.execute_reply": "2023-11-04T17:31:57.119463Z"
    },
    "papermill": {
     "duration": 0.049427,
     "end_time": "2023-11-04T17:31:57.123535",
     "exception": false,
     "start_time": "2023-11-04T17:31:57.074108",
     "status": "completed"
    },
    "tags": []
   },
   "outputs": [],
   "source": [
    "def to_device(data, device):\n",
    "    \"\"\"Move tensor(s) to chosen device\"\"\"\n",
    "    if isinstance(data, (list,tuple)):\n",
    "        return [to_device(x,device) for x in data]\n",
    "    return data.to(device, non_blocking=True)"
   ]
  },
  {
   "cell_type": "code",
   "execution_count": 40,
   "id": "9688ba64",
   "metadata": {
    "execution": {
     "iopub.execute_input": "2023-11-04T17:31:57.202946Z",
     "iopub.status.busy": "2023-11-04T17:31:57.202516Z",
     "iopub.status.idle": "2023-11-04T17:31:57.401486Z",
     "shell.execute_reply": "2023-11-04T17:31:57.400397Z"
    },
    "papermill": {
     "duration": 0.242456,
     "end_time": "2023-11-04T17:31:57.404502",
     "exception": false,
     "start_time": "2023-11-04T17:31:57.162046",
     "status": "completed"
    },
    "tags": []
   },
   "outputs": [
    {
     "name": "stdout",
     "output_type": "stream",
     "text": [
      "torch.Size([128, 1, 28, 28])\n",
      "cpu\n",
      "cpu\n"
     ]
    }
   ],
   "source": [
    "for images, labels in train_loader:\n",
    "    print(images.shape)\n",
    "    print(images.device)\n",
    "    images = to_device(images,device)\n",
    "    print(images.device)\n",
    "    break"
   ]
  },
  {
   "cell_type": "markdown",
   "id": "78055a93",
   "metadata": {
    "papermill": {
     "duration": 0.037771,
     "end_time": "2023-11-04T17:31:57.480620",
     "exception": false,
     "start_time": "2023-11-04T17:31:57.442849",
     "status": "completed"
    },
    "tags": []
   },
   "source": [
    "Finally, we define a `DeviceDataLoader` class to wrap our existing data loaders and move batches of data to the selected device. Interestingly, we don't need to extend an existing class to create a PyTorch datal oader. All we need is an `__iter__` method to retrieve batches of data and an `__len__` method to get the number of batches."
   ]
  },
  {
   "cell_type": "code",
   "execution_count": 41,
   "id": "f3b3c73b",
   "metadata": {
    "execution": {
     "iopub.execute_input": "2023-11-04T17:31:57.559070Z",
     "iopub.status.busy": "2023-11-04T17:31:57.558414Z",
     "iopub.status.idle": "2023-11-04T17:31:57.566559Z",
     "shell.execute_reply": "2023-11-04T17:31:57.565682Z"
    },
    "papermill": {
     "duration": 0.050431,
     "end_time": "2023-11-04T17:31:57.569071",
     "exception": false,
     "start_time": "2023-11-04T17:31:57.518640",
     "status": "completed"
    },
    "tags": []
   },
   "outputs": [],
   "source": [
    "class DeviceDataLoader():\n",
    "    \"\"\"Wrap a dataloader to move data to a device\"\"\"\n",
    "    def __init__(self, dl, device):\n",
    "        self.dl = dl\n",
    "        self.device = device\n",
    "        \n",
    "    def __iter__(self):\n",
    "        \"\"\"Yield a batch of data after moving it to device\"\"\"\n",
    "        for b in self.dl:\n",
    "            yield to_device(b, self.device)\n",
    "            \n",
    "    def __len__(self):\n",
    "        \"\"\"Number of batches\"\"\"\n",
    "        return len(self.dl)"
   ]
  },
  {
   "cell_type": "markdown",
   "id": "487e8c64",
   "metadata": {
    "papermill": {
     "duration": 0.038581,
     "end_time": "2023-11-04T17:31:57.645937",
     "exception": false,
     "start_time": "2023-11-04T17:31:57.607356",
     "status": "completed"
    },
    "tags": []
   },
   "source": [
    "The `yield` keyword in Python is used to create a generator function that can be used within a `for` loop, as illustrated below."
   ]
  },
  {
   "cell_type": "code",
   "execution_count": 42,
   "id": "6f46dc00",
   "metadata": {
    "execution": {
     "iopub.execute_input": "2023-11-04T17:31:57.724924Z",
     "iopub.status.busy": "2023-11-04T17:31:57.724477Z",
     "iopub.status.idle": "2023-11-04T17:31:57.729683Z",
     "shell.execute_reply": "2023-11-04T17:31:57.728930Z"
    },
    "papermill": {
     "duration": 0.049052,
     "end_time": "2023-11-04T17:31:57.733153",
     "exception": false,
     "start_time": "2023-11-04T17:31:57.684101",
     "status": "completed"
    },
    "tags": []
   },
   "outputs": [
    {
     "name": "stdout",
     "output_type": "stream",
     "text": [
      "10\n",
      "20\n",
      "30\n"
     ]
    }
   ],
   "source": [
    "def some_numbers():\n",
    "    yield 10\n",
    "    yield 20\n",
    "    yield 30\n",
    "\n",
    "for value in some_numbers():\n",
    "    print(value)"
   ]
  },
  {
   "cell_type": "markdown",
   "id": "55a5cbe2",
   "metadata": {
    "papermill": {
     "duration": 0.037745,
     "end_time": "2023-11-04T17:31:57.809239",
     "exception": false,
     "start_time": "2023-11-04T17:31:57.771494",
     "status": "completed"
    },
    "tags": []
   },
   "source": [
    "We can now wrap our data loaders using `DeviceDataLoader`."
   ]
  },
  {
   "cell_type": "code",
   "execution_count": 43,
   "id": "d1b54e9f",
   "metadata": {
    "execution": {
     "iopub.execute_input": "2023-11-04T17:31:57.887603Z",
     "iopub.status.busy": "2023-11-04T17:31:57.887182Z",
     "iopub.status.idle": "2023-11-04T17:31:57.892397Z",
     "shell.execute_reply": "2023-11-04T17:31:57.891288Z"
    },
    "papermill": {
     "duration": 0.047189,
     "end_time": "2023-11-04T17:31:57.894903",
     "exception": false,
     "start_time": "2023-11-04T17:31:57.847714",
     "status": "completed"
    },
    "tags": []
   },
   "outputs": [],
   "source": [
    "train_loader = DeviceDataLoader(train_loader,device)\n",
    "val_loader = DeviceDataLoader(val_loader,device)"
   ]
  },
  {
   "cell_type": "markdown",
   "id": "26022d57",
   "metadata": {
    "papermill": {
     "duration": 0.038213,
     "end_time": "2023-11-04T17:31:57.972207",
     "exception": false,
     "start_time": "2023-11-04T17:31:57.933994",
     "status": "completed"
    },
    "tags": []
   },
   "source": [
    "Tensors moved to the GPU have a `device` property which includes that word `cuda`. Let's verify this by looking at a batch of data from `valid_dl`."
   ]
  },
  {
   "cell_type": "code",
   "execution_count": 44,
   "id": "dc4813a8",
   "metadata": {
    "execution": {
     "iopub.execute_input": "2023-11-04T17:31:58.051496Z",
     "iopub.status.busy": "2023-11-04T17:31:58.051080Z",
     "iopub.status.idle": "2023-11-04T17:31:58.278202Z",
     "shell.execute_reply": "2023-11-04T17:31:58.276140Z"
    },
    "papermill": {
     "duration": 0.270072,
     "end_time": "2023-11-04T17:31:58.281097",
     "exception": false,
     "start_time": "2023-11-04T17:31:58.011025",
     "status": "completed"
    },
    "tags": []
   },
   "outputs": [
    {
     "name": "stdout",
     "output_type": "stream",
     "text": [
      "cb device:  cpu\n",
      "yb:  tensor([2, 2, 5, 0, 3, 9, 8, 7, 2, 5, 7, 6, 2, 4, 2, 7, 4, 7, 4, 7, 3, 6, 4, 1,\n",
      "        6, 7, 6, 0, 2, 5, 7, 7, 2, 2, 8, 5, 1, 2, 1, 2, 3, 7, 6, 1, 8, 5, 9, 2,\n",
      "        9, 9, 5, 3, 2, 1, 3, 3, 5, 3, 5, 3, 7, 5, 4, 3, 0, 8, 1, 4, 4, 8, 1, 6,\n",
      "        3, 2, 2, 2, 3, 9, 8, 9, 1, 5, 6, 0, 2, 9, 7, 4, 3, 3, 2, 0, 2, 0, 6, 9,\n",
      "        5, 4, 9, 7, 6, 7, 0, 2, 6, 0, 1, 5, 0, 2, 0, 3, 4, 4, 4, 4, 9, 2, 0, 2,\n",
      "        6, 2, 7, 1, 8, 7, 3, 1, 8, 2, 6, 3, 9, 3, 4, 3, 2, 7, 2, 3, 2, 4, 6, 1,\n",
      "        7, 4, 1, 2, 4, 1, 3, 1, 5, 3, 4, 1, 2, 7, 9, 8, 9, 0, 7, 6, 2, 1, 4, 4,\n",
      "        2, 8, 8, 3, 1, 0, 2, 1, 6, 2, 1, 6, 0, 1, 1, 2, 4, 9, 6, 5, 3, 3, 7, 1,\n",
      "        1, 0, 6, 0, 3, 4, 0, 1, 9, 5, 3, 5, 7, 2, 3, 6, 0, 1, 3, 3, 7, 2, 1, 8,\n",
      "        6, 4, 3, 6, 7, 4, 9, 1, 5, 4, 0, 5, 4, 5, 7, 2, 8, 0, 9, 9, 1, 6, 6, 8,\n",
      "        7, 0, 8, 0, 4, 9, 0, 8, 1, 4, 9, 9, 1, 9, 8, 1])\n"
     ]
    }
   ],
   "source": [
    "for xb,yb in val_loader:\n",
    "    print('cb device: ',xb.device)\n",
    "    print('yb: ',yb)\n",
    "    break"
   ]
  },
  {
   "cell_type": "markdown",
   "id": "773a16d2",
   "metadata": {
    "papermill": {
     "duration": 0.038181,
     "end_time": "2023-11-04T17:31:58.357899",
     "exception": false,
     "start_time": "2023-11-04T17:31:58.319718",
     "status": "completed"
    },
    "tags": []
   },
   "source": [
    "## Training the Model\n",
    "\n",
    "We'll define two functions: `fit` and `evaluate` to train the model using gradient descent and evaluate its performance on the validation set. For a detailed walkthrough of these functions, check out the [previous tutorial](https://jovian.ai/aakashns/03-logistic-regression)."
   ]
  },
  {
   "cell_type": "code",
   "execution_count": 45,
   "id": "cedaad97",
   "metadata": {
    "execution": {
     "iopub.execute_input": "2023-11-04T17:31:58.437564Z",
     "iopub.status.busy": "2023-11-04T17:31:58.437091Z",
     "iopub.status.idle": "2023-11-04T17:31:58.446663Z",
     "shell.execute_reply": "2023-11-04T17:31:58.445135Z"
    },
    "papermill": {
     "duration": 0.0525,
     "end_time": "2023-11-04T17:31:58.449007",
     "exception": false,
     "start_time": "2023-11-04T17:31:58.396507",
     "status": "completed"
    },
    "tags": []
   },
   "outputs": [],
   "source": [
    "def evaluate(mode, val_loader):\n",
    "    \"\"\"Evaluate the model's performance on the validation set\"\"\"\n",
    "    outputs = [model.validation_step(batch) for batch in val_loader]\n",
    "    return model.validation_epoch_end(outputs)\n",
    "\n",
    "def fit(epochs, lr, mode, train_loader, val_loader, opt_fn = torch.optim.SGD):\n",
    "    \"\"\"Train the model using gradient Descsent\"\"\"\n",
    "    history=[]\n",
    "    optimizer = opt_fn(model.parameters(),lr)\n",
    "    for epoch in range(epochs):\n",
    "        #Training phase\n",
    "        for batch in train_loader:\n",
    "            loss = model.training_step(batch)\n",
    "            loss.backward()\n",
    "            optimizer.step()\n",
    "            optimizer.zero_grad()\n",
    "        #Validation phase\n",
    "        result = evaluate(model,val_loader)\n",
    "        model.epoch_end(epoch,result)\n",
    "        history.append(result)\n",
    "    return history"
   ]
  },
  {
   "cell_type": "markdown",
   "id": "4d1c6ebc",
   "metadata": {
    "papermill": {
     "duration": 0.037995,
     "end_time": "2023-11-04T17:31:58.525277",
     "exception": false,
     "start_time": "2023-11-04T17:31:58.487282",
     "status": "completed"
    },
    "tags": []
   },
   "source": [
    "Before we train the model, we need to ensure that the data and the model's parameters (weights and biases) are on the same device (CPU or GPU). We can reuse the `to_device` function to move the model's parameters to the right device. "
   ]
  },
  {
   "cell_type": "code",
   "execution_count": 46,
   "id": "81b2d1dc",
   "metadata": {
    "execution": {
     "iopub.execute_input": "2023-11-04T17:31:58.604469Z",
     "iopub.status.busy": "2023-11-04T17:31:58.604066Z",
     "iopub.status.idle": "2023-11-04T17:31:58.614022Z",
     "shell.execute_reply": "2023-11-04T17:31:58.612953Z"
    },
    "papermill": {
     "duration": 0.052672,
     "end_time": "2023-11-04T17:31:58.616407",
     "exception": false,
     "start_time": "2023-11-04T17:31:58.563735",
     "status": "completed"
    },
    "tags": []
   },
   "outputs": [
    {
     "data": {
      "text/plain": [
       "MnistModel(\n",
       "  (linear1): Linear(in_features=784, out_features=32, bias=True)\n",
       "  (linear2): Linear(in_features=32, out_features=10, bias=True)\n",
       ")"
      ]
     },
     "execution_count": 46,
     "metadata": {},
     "output_type": "execute_result"
    }
   ],
   "source": [
    "#Model on GPU\n",
    "model = MnistModel(input_size,hidden_size,num_classes)\n",
    "to_device(model,device)"
   ]
  },
  {
   "cell_type": "markdown",
   "id": "ba372a6f",
   "metadata": {
    "papermill": {
     "duration": 0.037917,
     "end_time": "2023-11-04T17:31:58.694127",
     "exception": false,
     "start_time": "2023-11-04T17:31:58.656210",
     "status": "completed"
    },
    "tags": []
   },
   "source": [
    "Let's see how the model performs on the validation set with the initial set of weights and biases."
   ]
  },
  {
   "cell_type": "code",
   "execution_count": 47,
   "id": "2d9d5b62",
   "metadata": {
    "execution": {
     "iopub.execute_input": "2023-11-04T17:31:58.773841Z",
     "iopub.status.busy": "2023-11-04T17:31:58.773415Z",
     "iopub.status.idle": "2023-11-04T17:31:59.545608Z",
     "shell.execute_reply": "2023-11-04T17:31:59.543984Z"
    },
    "papermill": {
     "duration": 0.815162,
     "end_time": "2023-11-04T17:31:59.548484",
     "exception": false,
     "start_time": "2023-11-04T17:31:58.733322",
     "status": "completed"
    },
    "tags": []
   },
   "outputs": [
    {
     "data": {
      "text/plain": [
       "[{'val_loss': 2.3117659091949463, 'val_acc': 0.09384765475988388}]"
      ]
     },
     "execution_count": 47,
     "metadata": {},
     "output_type": "execute_result"
    }
   ],
   "source": [
    "history = [evaluate(model,val_loader)]\n",
    "history"
   ]
  },
  {
   "cell_type": "markdown",
   "id": "2dee8a69",
   "metadata": {
    "papermill": {
     "duration": 0.038604,
     "end_time": "2023-11-04T17:31:59.625814",
     "exception": false,
     "start_time": "2023-11-04T17:31:59.587210",
     "status": "completed"
    },
    "tags": []
   },
   "source": [
    "The initial accuracy is around 10%, as one might expect from a randomly initialized model (since it has a 1 in 10 chance of getting a label right by guessing randomly).\n",
    "\n",
    "Let's train the model for five epochs and look at the results. We can use a relatively high learning rate of 0.5."
   ]
  },
  {
   "cell_type": "code",
   "execution_count": 48,
   "id": "f6a5ec44",
   "metadata": {
    "execution": {
     "iopub.execute_input": "2023-11-04T17:31:59.706486Z",
     "iopub.status.busy": "2023-11-04T17:31:59.706015Z",
     "iopub.status.idle": "2023-11-04T17:32:24.368148Z",
     "shell.execute_reply": "2023-11-04T17:32:24.366194Z"
    },
    "papermill": {
     "duration": 24.706014,
     "end_time": "2023-11-04T17:32:24.371285",
     "exception": false,
     "start_time": "2023-11-04T17:31:59.665271",
     "status": "completed"
    },
    "tags": []
   },
   "outputs": [
    {
     "name": "stdout",
     "output_type": "stream",
     "text": [
      "Epoch [0], val_loss: 0.2353, val_acc: 0.9255\n",
      "Epoch [1], val_loss: 0.1844, val_acc: 0.9447\n",
      "Epoch [2], val_loss: 0.1530, val_acc: 0.9529\n",
      "Epoch [3], val_loss: 0.1483, val_acc: 0.9562\n",
      "Epoch [4], val_loss: 0.1433, val_acc: 0.9564\n"
     ]
    }
   ],
   "source": [
    "history += fit(5,0.5,model,train_loader,val_loader)"
   ]
  },
  {
   "cell_type": "markdown",
   "id": "2550899b",
   "metadata": {
    "papermill": {
     "duration": 0.038909,
     "end_time": "2023-11-04T17:32:24.449954",
     "exception": false,
     "start_time": "2023-11-04T17:32:24.411045",
     "status": "completed"
    },
    "tags": []
   },
   "source": [
    "96% is pretty good! Let's train the model for five more epochs at a lower learning rate of 0.1 to improve the accuracy further."
   ]
  },
  {
   "cell_type": "code",
   "execution_count": 49,
   "id": "904165a5",
   "metadata": {
    "execution": {
     "iopub.execute_input": "2023-11-04T17:32:24.532047Z",
     "iopub.status.busy": "2023-11-04T17:32:24.531510Z",
     "iopub.status.idle": "2023-11-04T17:32:49.335229Z",
     "shell.execute_reply": "2023-11-04T17:32:49.333597Z"
    },
    "papermill": {
     "duration": 24.84882,
     "end_time": "2023-11-04T17:32:49.338374",
     "exception": false,
     "start_time": "2023-11-04T17:32:24.489554",
     "status": "completed"
    },
    "tags": []
   },
   "outputs": [
    {
     "name": "stdout",
     "output_type": "stream",
     "text": [
      "Epoch [0], val_loss: 0.1221, val_acc: 0.9628\n",
      "Epoch [1], val_loss: 0.1220, val_acc: 0.9625\n",
      "Epoch [2], val_loss: 0.1194, val_acc: 0.9635\n",
      "Epoch [3], val_loss: 0.1198, val_acc: 0.9641\n",
      "Epoch [4], val_loss: 0.1194, val_acc: 0.9638\n"
     ]
    }
   ],
   "source": [
    "history += fit(5,0.1,model,train_loader,val_loader)"
   ]
  },
  {
   "cell_type": "markdown",
   "id": "66a2a4b6",
   "metadata": {
    "papermill": {
     "duration": 0.039665,
     "end_time": "2023-11-04T17:32:49.418149",
     "exception": false,
     "start_time": "2023-11-04T17:32:49.378484",
     "status": "completed"
    },
    "tags": []
   },
   "source": [
    "We can now plot the losses and accuracies"
   ]
  },
  {
   "cell_type": "code",
   "execution_count": 50,
   "id": "50496424",
   "metadata": {
    "execution": {
     "iopub.execute_input": "2023-11-04T17:32:49.499964Z",
     "iopub.status.busy": "2023-11-04T17:32:49.499461Z",
     "iopub.status.idle": "2023-11-04T17:32:49.832104Z",
     "shell.execute_reply": "2023-11-04T17:32:49.830625Z"
    },
    "papermill": {
     "duration": 0.377073,
     "end_time": "2023-11-04T17:32:49.835088",
     "exception": false,
     "start_time": "2023-11-04T17:32:49.458015",
     "status": "completed"
    },
    "tags": []
   },
   "outputs": [
    {
     "data": {
      "text/plain": [
       "Text(0.5, 1.0, 'Loss vs. No. of epochs')"
      ]
     },
     "execution_count": 50,
     "metadata": {},
     "output_type": "execute_result"
    },
    {
     "data": {
      "image/png": "[encoded data removed]",
      "text/plain": [
       "<Figure size 640x480 with 1 Axes>"
      ]
     },
     "metadata": {},
     "output_type": "display_data"
    }
   ],
   "source": [
    "losses = [x['val_loss'] for x in history]\n",
    "plt.plot(losses,'-x')\n",
    "plt.xlabel('epoch')\n",
    "plt.ylabel('loss')\n",
    "plt.title('Loss vs. No. of epochs')"
   ]
  },
  {
   "cell_type": "code",
   "execution_count": 51,
   "id": "08ed6ae1",
   "metadata": {
    "execution": {
     "iopub.execute_input": "2023-11-04T17:32:49.921055Z",
     "iopub.status.busy": "2023-11-04T17:32:49.919891Z",
     "iopub.status.idle": "2023-11-04T17:32:50.269292Z",
     "shell.execute_reply": "2023-11-04T17:32:50.267989Z"
    },
    "papermill": {
     "duration": 0.39513,
     "end_time": "2023-11-04T17:32:50.272089",
     "exception": false,
     "start_time": "2023-11-04T17:32:49.876959",
     "status": "completed"
    },
    "tags": []
   },
   "outputs": [
    {
     "data": {
      "text/plain": [
       "Text(0.5, 1.0, 'Accuracy vs. No. of epochs')"
      ]
     },
     "execution_count": 51,
     "metadata": {},
     "output_type": "execute_result"
    },
    {
     "data": {
      "image/png": "[encoded data removed]",
      "text/plain": [
       "<Figure size 640x480 with 1 Axes>"
      ]
     },
     "metadata": {},
     "output_type": "display_data"
    }
   ],
   "source": [
    "losses = [x['val_acc'] for x in history]\n",
    "plt.plot(losses,'-x')\n",
    "plt.xlabel('epoch')\n",
    "plt.ylabel('accuracy')\n",
    "plt.title('Accuracy vs. No. of epochs')"
   ]
  },
  {
   "cell_type": "markdown",
   "id": "90563a47",
   "metadata": {
    "papermill": {
     "duration": 0.039281,
     "end_time": "2023-11-04T17:32:50.351672",
     "exception": false,
     "start_time": "2023-11-04T17:32:50.312391",
     "status": "completed"
    },
    "tags": []
   },
   "source": [
    "Our current model outperforms the logistic regression model (which could only achieve around 86% accuracy) by a considerable margin! It quickly reaches an accuracy of 97% but doesn't improve much beyond this. To improve accuracy further, we need to make the model more powerful by increasing the hidden layer's size or adding more hidden layers with activations. I encourage you to try out both these approaches and see which one works better."
   ]
  },
  {
   "cell_type": "markdown",
   "id": "677efd34",
   "metadata": {
    "papermill": {
     "duration": 0.039119,
     "end_time": "2023-11-04T17:32:50.430041",
     "exception": false,
     "start_time": "2023-11-04T17:32:50.390922",
     "status": "completed"
    },
    "tags": []
   },
   "source": [
    "## Testing with individual images\n",
    "\n",
    "While we have been tracking the overall accuracy of a model so far, it's also a good idea to look at model's results on some sample images. Let's test out our model with some images from the predefined test dataset of 10000 images. We begin by recreating the test dataset with the `ToTensor` transform."
   ]
  },
  {
   "cell_type": "code",
   "execution_count": 52,
   "id": "25c68031",
   "metadata": {
    "execution": {
     "iopub.execute_input": "2023-11-04T17:32:50.511592Z",
     "iopub.status.busy": "2023-11-04T17:32:50.510949Z",
     "iopub.status.idle": "2023-11-04T17:32:50.530911Z",
     "shell.execute_reply": "2023-11-04T17:32:50.529393Z"
    },
    "papermill": {
     "duration": 0.064544,
     "end_time": "2023-11-04T17:32:50.534175",
     "exception": false,
     "start_time": "2023-11-04T17:32:50.469631",
     "status": "completed"
    },
    "tags": []
   },
   "outputs": [],
   "source": [
    "#Define the test dataset\n",
    "test_dataset = MNIST(root='data/',\n",
    "                    train=False,\n",
    "                    transform=ToTensor())"
   ]
  },
  {
   "cell_type": "markdown",
   "id": "a6d18dbd",
   "metadata": {
    "papermill": {
     "duration": 0.043811,
     "end_time": "2023-11-04T17:32:50.619632",
     "exception": false,
     "start_time": "2023-11-04T17:32:50.575821",
     "status": "completed"
    },
    "tags": []
   },
   "source": [
    "Let's define a helper function `predict_image`, which returns the predicted label for a single image tensor."
   ]
  },
  {
   "cell_type": "code",
   "execution_count": 53,
   "id": "ed1cf6fb",
   "metadata": {
    "execution": {
     "iopub.execute_input": "2023-11-04T17:32:50.708957Z",
     "iopub.status.busy": "2023-11-04T17:32:50.708506Z",
     "iopub.status.idle": "2023-11-04T17:32:50.715680Z",
     "shell.execute_reply": "2023-11-04T17:32:50.714874Z"
    },
    "papermill": {
     "duration": 0.053147,
     "end_time": "2023-11-04T17:32:50.717898",
     "exception": false,
     "start_time": "2023-11-04T17:32:50.664751",
     "status": "completed"
    },
    "tags": []
   },
   "outputs": [
    {
     "data": {
      "text/plain": [
       "torch.Size([1, 28, 28])"
      ]
     },
     "execution_count": 53,
     "metadata": {},
     "output_type": "execute_result"
    }
   ],
   "source": [
    "test_dataset[0][0].shape"
   ]
  },
  {
   "cell_type": "code",
   "execution_count": 54,
   "id": "2fdad701",
   "metadata": {
    "execution": {
     "iopub.execute_input": "2023-11-04T17:32:50.804335Z",
     "iopub.status.busy": "2023-11-04T17:32:50.803891Z",
     "iopub.status.idle": "2023-11-04T17:32:50.814219Z",
     "shell.execute_reply": "2023-11-04T17:32:50.812822Z"
    },
    "papermill": {
     "duration": 0.05747,
     "end_time": "2023-11-04T17:32:50.817035",
     "exception": false,
     "start_time": "2023-11-04T17:32:50.759565",
     "status": "completed"
    },
    "tags": []
   },
   "outputs": [
    {
     "data": {
      "text/plain": [
       "torch.Size([1, 1, 28, 28])"
      ]
     },
     "execution_count": 54,
     "metadata": {},
     "output_type": "execute_result"
    }
   ],
   "source": [
    "test_dataset[0][0].unsqueeze(0).shape"
   ]
  },
  {
   "cell_type": "code",
   "execution_count": 55,
   "id": "2def6763",
   "metadata": {
    "execution": {
     "iopub.execute_input": "2023-11-04T17:32:50.904736Z",
     "iopub.status.busy": "2023-11-04T17:32:50.904232Z",
     "iopub.status.idle": "2023-11-04T17:32:50.911556Z",
     "shell.execute_reply": "2023-11-04T17:32:50.909956Z"
    },
    "papermill": {
     "duration": 0.055359,
     "end_time": "2023-11-04T17:32:50.915035",
     "exception": false,
     "start_time": "2023-11-04T17:32:50.859676",
     "status": "completed"
    },
    "tags": []
   },
   "outputs": [],
   "source": [
    "def predict_image(img, model):\n",
    "    xb = to_device(img.unsqueeze(0),device)\n",
    "    yb = model(xb)\n",
    "    _, preds = torch.max(yb,dim=1)\n",
    "    return preds[0].item()"
   ]
  },
  {
   "cell_type": "markdown",
   "id": "7ba84efc",
   "metadata": {
    "papermill": {
     "duration": 0.042238,
     "end_time": "2023-11-04T17:32:51.000779",
     "exception": false,
     "start_time": "2023-11-04T17:32:50.958541",
     "status": "completed"
    },
    "tags": []
   },
   "source": [
    "Let's try it out with a few images."
   ]
  },
  {
   "cell_type": "code",
   "execution_count": 56,
   "id": "73cd61aa",
   "metadata": {
    "execution": {
     "iopub.execute_input": "2023-11-04T17:32:51.089326Z",
     "iopub.status.busy": "2023-11-04T17:32:51.088863Z",
     "iopub.status.idle": "2023-11-04T17:32:51.383895Z",
     "shell.execute_reply": "2023-11-04T17:32:51.382595Z"
    },
    "papermill": {
     "duration": 0.341684,
     "end_time": "2023-11-04T17:32:51.386710",
     "exception": false,
     "start_time": "2023-11-04T17:32:51.045026",
     "status": "completed"
    },
    "tags": []
   },
   "outputs": [
    {
     "name": "stdout",
     "output_type": "stream",
     "text": [
      "Label: 7 , Predicted:  7\n"
     ]
    },
    {
     "data": {
      "image/png": "[encoded data removed]",
      "text/plain": [
       "<Figure size 640x480 with 1 Axes>"
      ]
     },
     "metadata": {},
     "output_type": "display_data"
    }
   ],
   "source": [
    "img, label = test_dataset[0]\n",
    "plt.imshow(img[0],cmap='gray')\n",
    "print('Label:',label,', Predicted: ',predict_image(img,model))"
   ]
  },
  {
   "cell_type": "code",
   "execution_count": 57,
   "id": "f9530b78",
   "metadata": {
    "execution": {
     "iopub.execute_input": "2023-11-04T17:32:51.474383Z",
     "iopub.status.busy": "2023-11-04T17:32:51.473928Z",
     "iopub.status.idle": "2023-11-04T17:32:51.765089Z",
     "shell.execute_reply": "2023-11-04T17:32:51.763667Z"
    },
    "papermill": {
     "duration": 0.339705,
     "end_time": "2023-11-04T17:32:51.767987",
     "exception": false,
     "start_time": "2023-11-04T17:32:51.428282",
     "status": "completed"
    },
    "tags": []
   },
   "outputs": [
    {
     "name": "stdout",
     "output_type": "stream",
     "text": [
      "Label: 2 , Predicted: 2\n"
     ]
    },
    {
     "data": {
      "image/png": "[encoded data removed]",
      "text/plain": [
       "<Figure size 640x480 with 1 Axes>"
      ]
     },
     "metadata": {},
     "output_type": "display_data"
    }
   ],
   "source": [
    "img, label = test_dataset[1839]\n",
    "plt.imshow(img[0], cmap='gray')\n",
    "print('Label:', label, ', Predicted:', predict_image(img, model))"
   ]
  },
  {
   "cell_type": "code",
   "execution_count": 58,
   "id": "e9b4edfe",
   "metadata": {
    "execution": {
     "iopub.execute_input": "2023-11-04T17:32:51.855957Z",
     "iopub.status.busy": "2023-11-04T17:32:51.855046Z",
     "iopub.status.idle": "2023-11-04T17:32:52.152087Z",
     "shell.execute_reply": "2023-11-04T17:32:52.150774Z"
    },
    "papermill": {
     "duration": 0.343559,
     "end_time": "2023-11-04T17:32:52.154925",
     "exception": false,
     "start_time": "2023-11-04T17:32:51.811366",
     "status": "completed"
    },
    "tags": []
   },
   "outputs": [
    {
     "name": "stdout",
     "output_type": "stream",
     "text": [
      "Label: 9 , Predicted: 9\n"
     ]
    },
    {
     "data": {
      "image/png": "[encoded data removed]",
      "text/plain": [
       "<Figure size 640x480 with 1 Axes>"
      ]
     },
     "metadata": {},
     "output_type": "display_data"
    }
   ],
   "source": [
    "img, label = test_dataset[193]\n",
    "plt.imshow(img[0], cmap='gray')\n",
    "print('Label:', label, ', Predicted:', predict_image(img, model))"
   ]
  },
  {
   "cell_type": "markdown",
   "id": "d5ff3bec",
   "metadata": {
    "papermill": {
     "duration": 0.042326,
     "end_time": "2023-11-04T17:32:52.240651",
     "exception": false,
     "start_time": "2023-11-04T17:32:52.198325",
     "status": "completed"
    },
    "tags": []
   },
   "source": [
    "Identifying where our model performs poorly can help us improve the model, by collecting more training data, increasing/decreasing the complexity of the model, and changing the hypeparameters.\n",
    "\n",
    "As a final step, let's also look at the overall loss and accuracy of the model on the test set."
   ]
  },
  {
   "cell_type": "code",
   "execution_count": 59,
   "id": "9311830f",
   "metadata": {
    "execution": {
     "iopub.execute_input": "2023-11-04T17:32:52.327384Z",
     "iopub.status.busy": "2023-11-04T17:32:52.326929Z",
     "iopub.status.idle": "2023-11-04T17:32:53.559397Z",
     "shell.execute_reply": "2023-11-04T17:32:53.558169Z"
    },
    "papermill": {
     "duration": 1.278946,
     "end_time": "2023-11-04T17:32:53.562062",
     "exception": false,
     "start_time": "2023-11-04T17:32:52.283116",
     "status": "completed"
    },
    "tags": []
   },
   "outputs": [
    {
     "data": {
      "text/plain": [
       "{'val_loss': 0.10420826822519302, 'val_acc': 0.9696289300918579}"
      ]
     },
     "execution_count": 59,
     "metadata": {},
     "output_type": "execute_result"
    }
   ],
   "source": [
    "test_loader = DeviceDataLoader(DataLoader(test_dataset, batch_size=256),device)\n",
    "result = evaluate(model,test_loader)\n",
    "result"
   ]
  },
  {
   "cell_type": "markdown",
   "id": "31527328",
   "metadata": {
    "papermill": {
     "duration": 0.042398,
     "end_time": "2023-11-04T17:32:53.646946",
     "exception": false,
     "start_time": "2023-11-04T17:32:53.604548",
     "status": "completed"
    },
    "tags": []
   },
   "source": [
    "We expect this to be similar to the accuracy/loss on the validation set. If not, we might need a better validation set that has similar data and distribution as the test set (which often comes from real world data)."
   ]
  },
  {
   "cell_type": "code",
   "execution_count": null,
   "id": "c2e421c2",
   "metadata": {
    "papermill": {
     "duration": 0.053948,
     "end_time": "2023-11-04T17:32:53.751275",
     "exception": false,
     "start_time": "2023-11-04T17:32:53.697327",
     "status": "completed"
    },
    "tags": []
   },
   "outputs": [],
   "source": []
  }
 ],
 "metadata": {
  "kernelspec": {
   "display_name": "Python 3",
   "language": "python",
   "name": "python3"
  },
  "language_info": {
   "codemirror_mode": {
    "name": "ipython",
    "version": 3
   },
   "file_extension": ".py",
   "mimetype": "text/x-python",
   "name": "python",
   "nbconvert_exporter": "python",
   "pygments_lexer": "ipython3",
   "version": "3.10.12"
  },
  "papermill": {
   "default_parameters": {},
   "duration": 80.112804,
   "end_time": "2023-11-04T17:32:55.122053",
   "environment_variables": {},
   "exception": null,
   "input_path": "__notebook__.ipynb",
   "output_path": "__notebook__.ipynb",
   "parameters": {},
   "start_time": "2023-11-04T17:31:35.009249",
   "version": "2.4.0"
  }
 },
 "nbformat": 4,
 "nbformat_minor": 5
}
